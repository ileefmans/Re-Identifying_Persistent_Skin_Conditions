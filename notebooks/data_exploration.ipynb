{
 "cells": [
  {
   "cell_type": "markdown",
   "metadata": {},
   "source": [
    "## Set up directory"
   ]
  },
  {
   "cell_type": "code",
   "execution_count": 4,
   "metadata": {},
   "outputs": [
    {
     "name": "stdout",
     "output_type": "stream",
     "text": [
      "/Users/ianleefmans/Desktop/Insight/Project/Re-Identifying_Persistent_Skin_Conditions/skinConditionDetect\n"
     ]
    }
   ],
   "source": [
    "%cd /Users/ianleefmans/Desktop/Insight/Project/Re-Identifying_Persistent_Skin_Conditions/skinConditionDetect\n"
   ]
  },
  {
   "cell_type": "markdown",
   "metadata": {},
   "source": [
    "# Example using custom datahelper and Faster-RCNN"
   ]
  },
  {
   "cell_type": "code",
   "execution_count": 5,
   "metadata": {},
   "outputs": [],
   "source": [
    "# import packages\n",
    "from datahelper import CreateDataset\n",
    "import torch\n",
    "from torch.utils.data import DataLoader\n",
    "from PIL import Image\n",
    "import os\n",
    "import torchvision\n",
    "#from model import MVP\n",
    "from tqdm import tqdm\n",
    "import os\n",
    "import pandas as pd\n",
    "import pickle"
   ]
  },
  {
   "cell_type": "code",
   "execution_count": 3,
   "metadata": {},
   "outputs": [],
   "source": [
    "# Create paths\n",
    "pickle_path = \"/Users/ianleefmans/Desktop/Insight/Project/Re-Identifying_Persistent_Skin_Conditions/skinConditionDetect/annotation_dict.pkl\"\n",
    "data_directory = \"/Users/ianleefmans/Desktop/Insight/Project/Data\"\n",
    "\n",
    "# Create dataset\n",
    "dataset = CreateDataset(pickle_path, data_directory, local=True, transform = torchvision.transforms.ToTensor())\n",
    "def my_collate(batch):\n",
    "    data = [item[0] for item in batch]\n",
    "    target = [item[1] for item in batch]\n",
    "    #target = torch.LongTensor(target)\n",
    "    return data, target\n",
    "train_loader = DataLoader(dataset=dataset, batch_size=4, num_workers=0, shuffle=True, collate_fn=my_collate)\n",
    "sample = iter(train_loader).next()\n"
   ]
  },
  {
   "cell_type": "code",
   "execution_count": 118,
   "metadata": {},
   "outputs": [
    {
     "name": "stderr",
     "output_type": "stream",
     "text": [
      "100%|██████████| 45/45 [00:04<00:00, 10.50it/s]\n"
     ]
    },
    {
     "data": {
      "text/plain": [
       "[]"
      ]
     },
     "execution_count": 118,
     "metadata": {},
     "output_type": "execute_result"
    }
   ],
   "source": [
    "lis =[]\n",
    "for i in tqdm(range(31085, 31130)):\n",
    "    try:\n",
    "        dataset[i]\n",
    "    except:\n",
    "        lis.append(i)\n",
    "        print(i)\n",
    "    finally:\n",
    "        pass\n",
    "lis"
   ]
  },
  {
   "cell_type": "code",
   "execution_count": 81,
   "metadata": {},
   "outputs": [
    {
     "data": {
      "text/plain": [
       "232333"
      ]
     },
     "execution_count": 81,
     "metadata": {},
     "output_type": "execute_result"
    }
   ],
   "source": [
    "len(dataset)"
   ]
  },
  {
   "cell_type": "code",
   "execution_count": null,
   "metadata": {},
   "outputs": [],
   "source": [
    "image = sample[0]\n",
    "annotation = sample[1]"
   ]
  },
  {
   "cell_type": "code",
   "execution_count": 19,
   "metadata": {},
   "outputs": [],
   "source": [
    "import pandas as pd\n",
    "data_path = \"/Users/ianleefmans/Desktop/Insight/Project/Data/followup_data/\"\n",
    "\n",
    "test_json = 'user_000000000277.json'\n",
    "\n",
    "df = pd.read_json(data_path+test_json)\n",
    "\n"
   ]
  },
  {
   "cell_type": "code",
   "execution_count": 61,
   "metadata": {},
   "outputs": [
    {
     "name": "stderr",
     "output_type": "stream",
     "text": [
      "100%|██████████| 17293/17293 [04:06<00:00, 70.24it/s]\n"
     ]
    }
   ],
   "source": [
    "repeated_pics = []\n",
    "for filename in tqdm(os.listdir(\"/Users/ianleefmans/Desktop/Insight/Project/Data/followup_data/\")):\n",
    "    df = pd.read_json(\"/Users/ianleefmans/Desktop/Insight/Project/Data/followup_data/\"+filename)\n",
    "    if \"image_path\" in df.columns:\n",
    "        if df.image_path.nunique()==len(df)-df.image_path.isna().sum():\n",
    "            pass\n",
    "        else:\n",
    "            vc = df.image_path.value_counts()\n",
    "            repeated_pic+=list(vc[vc>1].index)\n",
    "        "
   ]
  },
  {
   "cell_type": "code",
   "execution_count": 62,
   "metadata": {},
   "outputs": [
    {
     "data": {
      "text/plain": [
       "0"
      ]
     },
     "execution_count": 62,
     "metadata": {},
     "output_type": "execute_result"
    }
   ],
   "source": [
    "len(repeated_pics)"
   ]
  },
  {
   "cell_type": "code",
   "execution_count": 8,
   "metadata": {},
   "outputs": [
    {
     "name": "stdout",
     "output_type": "stream",
     "text": [
      "<class 'list'> <class 'list'>\n"
     ]
    }
   ],
   "source": [
    "count = 0\n",
    "for i, j in train_loader:\n",
    "    print(type(i), type(j))\n",
    "    count+=1\n",
    "    if count==1:\n",
    "        break"
   ]
  },
  {
   "cell_type": "code",
   "execution_count": 11,
   "metadata": {},
   "outputs": [
    {
     "data": {
      "text/plain": [
       "tuple"
      ]
     },
     "execution_count": 11,
     "metadata": {},
     "output_type": "execute_result"
    }
   ],
   "source": [
    "type(dataset[44])"
   ]
  },
  {
   "cell_type": "code",
   "execution_count": null,
   "metadata": {},
   "outputs": [],
   "source": []
  },
  {
   "cell_type": "code",
   "execution_count": null,
   "metadata": {},
   "outputs": [],
   "source": []
  },
  {
   "cell_type": "code",
   "execution_count": null,
   "metadata": {},
   "outputs": [],
   "source": []
  },
  {
   "cell_type": "code",
   "execution_count": null,
   "metadata": {},
   "outputs": [],
   "source": []
  },
  {
   "cell_type": "code",
   "execution_count": 99,
   "metadata": {},
   "outputs": [
    {
     "name": "stderr",
     "output_type": "stream",
     "text": [
      "100%|██████████| 17293/17293 [07:27<00:00, 38.61it/s]\n"
     ]
    }
   ],
   "source": [
    "from tqdm import tqdm\n",
    "import os\n",
    "import pandas as pd\n",
    "import pickle\n",
    "annotation_dict = {}\n",
    "count = 0 \n",
    "tot_count=0\n",
    "for filename in tqdm(os.listdir(\"/Users/ianleefmans/Desktop/Insight/Project/Data/followup_data/\")):\n",
    "    try:\n",
    "        df = pd.read_json(\"/Users/ianleefmans/Desktop/Insight/Project/Data/followup_data/\"+filename)\n",
    "        df = df.loc[(df.image_details.notnull()) & (df.image_path.notnull()),:]\n",
    "        for i in list(df.index.values):\n",
    "            try:\n",
    "                df.iloc[i].image_details['annotation'] !=None\n",
    "                df.iloc[i]['image_details']['annotation'][0]\n",
    "                ok = False\n",
    "                for j in df.iloc[i].image_details['annotation']:\n",
    "                    if (j['condition']=='Detected') and ('bounding_boxes' in j.keys()):\n",
    "                        if len(j['bounding_boxes'])>0:\n",
    "                            ok = True\n",
    "                if ok ==False:\n",
    "                    a = 2/0\n",
    "                    \n",
    "                annotation_dict[count] = (filename, i)\n",
    "                \n",
    "                count+=1\n",
    "                \n",
    "                    \n",
    "            except:\n",
    "                print\n",
    "            finally:\n",
    "                pass\n",
    "            \n",
    "    except:\n",
    "        pass\n",
    "    finally:\n",
    "        pass\n",
    "with open(\"annotation_dict.pkl\", 'wb') as handle:\n",
    "    pickle.dump(annotation_dict, handle, protocol=pickle.HIGHEST_PROTOCOL)"
   ]
  },
  {
   "cell_type": "code",
   "execution_count": 6,
   "metadata": {},
   "outputs": [],
   "source": [
    "# open pickle\n",
    "with open(\"annotation_dict.pkl\", 'rb') as handle:\n",
    "    dictionary = pickle.load(handle)\n",
    "\n",
    "with open(\"bad_json_entry.pkl\", 'rb') as handle:\n",
    "    bad_json = pickle.load(handle)"
   ]
  },
  {
   "cell_type": "code",
   "execution_count": null,
   "metadata": {},
   "outputs": [],
   "source": [
    "for i in bad_json:\n",
    "    dictionary.pop(i)\n",
    "\n",
    "newdictionary = {}\n",
    "count= 0\n",
    "for i in dictionary:\n",
    "    newdictionary[count]=dictionary[i]\n",
    "    count+=1"
   ]
  },
  {
   "cell_type": "code",
   "execution_count": null,
   "metadata": {},
   "outputs": [],
   "source": [
    "with open(\"annotation_dict.pkl\", 'wb') as handle:\n",
    "    pickle.dump(newdictionary, handle, protocol=pickle.HIGHEST_PROTOCOL)\n"
   ]
  },
  {
   "cell_type": "code",
   "execution_count": 44,
   "metadata": {},
   "outputs": [
    {
     "data": {
      "text/plain": [
       "232333"
      ]
     },
     "execution_count": 44,
     "metadata": {},
     "output_type": "execute_result"
    }
   ],
   "source": [
    "len(dictionary) # dictionary length after removing 467 bad json"
   ]
  },
  {
   "cell_type": "code",
   "execution_count": 9,
   "metadata": {},
   "outputs": [
    {
     "data": {
      "text/plain": [
       "232800"
      ]
     },
     "execution_count": 9,
     "metadata": {},
     "output_type": "execute_result"
    }
   ],
   "source": [
    "len(dictionary) # dictionary length after removing 11 bad json"
   ]
  },
  {
   "cell_type": "code",
   "execution_count": 79,
   "metadata": {},
   "outputs": [
    {
     "data": {
      "text/plain": [
       "232811"
      ]
     },
     "execution_count": 79,
     "metadata": {},
     "output_type": "execute_result"
    }
   ],
   "source": [
    "len(dictionary) # dictionary length before removing 11 bad json\n"
   ]
  },
  {
   "cell_type": "code",
   "execution_count": 19,
   "metadata": {},
   "outputs": [
    {
     "data": {
      "text/plain": [
       "232333"
      ]
     },
     "execution_count": 19,
     "metadata": {},
     "output_type": "execute_result"
    }
   ],
   "source": [
    "len(dictionary)"
   ]
  },
  {
   "cell_type": "code",
   "execution_count": 45,
   "metadata": {},
   "outputs": [
    {
     "name": "stderr",
     "output_type": "stream",
     "text": [
      "100%|██████████| 232333/232333 [00:00<00:00, 517815.67it/s]\n"
     ]
    }
   ],
   "source": [
    "train_dictionary = {}\n",
    "val_dictionary = {}\n",
    "test_dictionary = {}\n",
    "count1 = 0\n",
    "count2 = 0\n",
    "for i in tqdm(dictionary):\n",
    "    if i<162632:\n",
    "        train_dictionary[i] = dictionary[i]\n",
    "    elif i<197483:\n",
    "        val_dictionary[count1] = dictionary[i]\n",
    "        count1+=1\n",
    "    else:\n",
    "        test_dictionary[count2] = dictionary[i]\n",
    "        count2+=1"
   ]
  },
  {
   "cell_type": "code",
   "execution_count": 46,
   "metadata": {},
   "outputs": [],
   "source": [
    "with open(\"train_annotation_dict.pkl\", 'wb') as handle:\n",
    "    pickle.dump(train_dictionary, handle)"
   ]
  },
  {
   "cell_type": "code",
   "execution_count": 47,
   "metadata": {},
   "outputs": [],
   "source": [
    "with open(\"val_annotation_dict.pkl\", 'wb') as handle:\n",
    "    pickle.dump(val_dictionary, handle)"
   ]
  },
  {
   "cell_type": "code",
   "execution_count": 48,
   "metadata": {},
   "outputs": [],
   "source": [
    "with open(\"test_annotation_dict.pkl\", 'wb') as handle:\n",
    "    pickle.dump(test_dictionary, handle)"
   ]
  },
  {
   "cell_type": "code",
   "execution_count": null,
   "metadata": {},
   "outputs": [],
   "source": []
  }
 ],
 "metadata": {
  "kernelspec": {
   "display_name": "Python 3",
   "language": "python",
   "name": "python3"
  },
  "language_info": {
   "codemirror_mode": {
    "name": "ipython",
    "version": 3
   },
   "file_extension": ".py",
   "mimetype": "text/x-python",
   "name": "python",
   "nbconvert_exporter": "python",
   "pygments_lexer": "ipython3",
   "version": "3.8.3"
  }
 },
 "nbformat": 4,
 "nbformat_minor": 4
}
